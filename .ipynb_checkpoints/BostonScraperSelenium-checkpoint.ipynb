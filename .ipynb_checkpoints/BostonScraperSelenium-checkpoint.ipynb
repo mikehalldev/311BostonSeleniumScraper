{
 "cells": [
  {
   "cell_type": "markdown",
   "metadata": {},
   "source": [
    "# Scrape Boston's 311 site with Selenium"
   ]
  },
  {
   "cell_type": "markdown",
   "metadata": {},
   "source": [
    "### Imports"
   ]
  },
  {
   "cell_type": "code",
   "execution_count": 10,
   "metadata": {},
   "outputs": [],
   "source": [
    "from selenium import webdriver\n",
    "from selenium.webdriver.common.keys import Keys\n",
    "import re\n",
    "import pandas as pd"
   ]
  },
  {
   "cell_type": "markdown",
   "metadata": {},
   "source": [
    "### Constants"
   ]
  },
  {
   "cell_type": "code",
   "execution_count": 9,
   "metadata": {},
   "outputs": [],
   "source": [
    "BOSTON_URL = r'https://311.boston.gov'\n",
    "SERVICE_ELEMS_XPATH = \"//h3[contains(text(),'Services')]/following-sibling::ul/li\""
   ]
  },
  {
   "cell_type": "markdown",
   "metadata": {},
   "source": [
    "### Scraper Class"
   ]
  },
  {
   "cell_type": "code",
   "execution_count": 11,
   "metadata": {},
   "outputs": [],
   "source": [
    "class Scraper:\n",
    "    \"\"\"Class that scrapes 311.boston.gov\"\"\"\n",
    "    \n",
    "    def __init__(self, driver):\n",
    "        self.report_urls = []\n",
    "        self.driver = driver\n",
    "        self.driver.get(BOSTON_URL)\n",
    "        self.services = []\n",
    "        self.get_services()\n",
    "        \n",
    "    def get_services(self):\n",
    "        \"\"\"Get service categories and service category count\"\"\"\n",
    "        service_elems = self.driver.find_elements_by_xpath(SERVICE_ELEMS_XPATH)\n",
    "        \n",
    "        service_category_elems = [elem.find_element_by_xpath(\"./a\") for elem in service_elems]\n",
    "        service_count_elems = [elem.find_element_by_xpath(\"./span\") for elem in service_elems]\n",
    "        \n",
    "        service_categories = [elem.text for elem in service_category_elems]\n",
    "        service_counts = [''.join(re.findall('\\d+', elem.text)) for elem in service_count_elems]\n",
    "        \n",
    "        self.services = list(zip(service_categories, service_counts))\n",
    "        \n",
    "    def get_reports_on_page(self):\n",
    "        \"\"\"Append report urls from a page onto self.report_urls\"\"\"\n",
    "        report_ids = [elem.get_attribute(\"onclick\").split(\"location.href='\")[1][:-2]\n",
    "                        for elem in self.driver.find_elements_by_class_name('report')]\n",
    "        \n",
    "        self.report_urls += [BOSTON_URL + report_id\n",
    "                            for report_id in report_ids\n",
    "                            if BOSTON_URL + report_id not in self.report_urls]\n",
    "        \n",
    "    def next_page(self):\n",
    "        \"\"\"Go to next page\"\"\"\n",
    "        next_page_button = self.driver.find_element_by_xpath(\"//li/a[contains(text(),'Next')]\")\n",
    "        next_page_button.click()\n",
    "        \n",
    "    def search_for(self, search_text):\n",
    "        \"\"\"Search for inputed text in search field and go to the results\"\"\"\n",
    "        search_box = self.driver.find_element_by_class_name('search-query')\n",
    "        search_box.send_keys(search_text)\n",
    "        search_box.send_keys(Keys.ENTER)"
   ]
  },
  {
   "cell_type": "code",
   "execution_count": 63,
   "metadata": {},
   "outputs": [],
   "source": [
    "driver = webdriver.Chrome()"
   ]
  },
  {
   "cell_type": "code",
   "execution_count": 64,
   "metadata": {},
   "outputs": [],
   "source": [
    "scraper = Scraper(driver)"
   ]
  },
  {
   "cell_type": "code",
   "execution_count": 65,
   "metadata": {},
   "outputs": [],
   "source": [
    "scraper.get_reports_on_page()"
   ]
  },
  {
   "cell_type": "code",
   "execution_count": 15,
   "metadata": {},
   "outputs": [
    {
     "data": {
      "text/plain": [
       "['https://311.boston.gov/reports/101002276877',\n",
       " 'https://311.boston.gov/reports/101002276975',\n",
       " 'https://311.boston.gov/reports/101002276873',\n",
       " 'https://311.boston.gov/reports/101002276974',\n",
       " 'https://311.boston.gov/reports/101002276910',\n",
       " 'https://311.boston.gov/reports/101002276944',\n",
       " 'https://311.boston.gov/reports/101002276972',\n",
       " 'https://311.boston.gov/reports/101002276973',\n",
       " 'https://311.boston.gov/reports/101002276971',\n",
       " 'https://311.boston.gov/reports/101002276939']"
      ]
     },
     "execution_count": 15,
     "metadata": {},
     "output_type": "execute_result"
    }
   ],
   "source": [
    "scraper.report_urls"
   ]
  },
  {
   "cell_type": "markdown",
   "metadata": {},
   "source": [
    "### Report Class"
   ]
  },
  {
   "cell_type": "code",
   "execution_count": 149,
   "metadata": {},
   "outputs": [],
   "source": [
    "class Report:\n",
    "    \"\"\"Handles information for individual reports\"\"\"\n",
    "    \n",
    "    def __init__(self, driver, report_url):\n",
    "        self.driver = driver\n",
    "        self.report_url = report_url\n",
    "        self.driver.get(self.report_url)\n",
    "        \n",
    "        self.report_dict = {}\n",
    "        self.status = \"\"\n",
    "        \n",
    "    def get_id(self):\n",
    "        \"\"\"Gets the ID of the ticket using the current URL\"\"\"\n",
    "        self.report_dict['id'] = self.driver.current_url.split('/')[-1]\n",
    "        \n",
    "    def get_status(self):\n",
    "        \"\"\"Gets the status (Opened, Closed, Submitted) of the report\"\"\"\n",
    "        self.report_dict['status'] = self.driver.find_element_by_class_name(\"label\").text\n",
    "        \n",
    "    def get_description(self):\n",
    "        \"\"\"Gets user-submitted description of the report\"\"\"\n",
    "        self.report_dict['description'] = self.driver.find_element_by_xpath(\"//blockquote/p\").text\n",
    "        \n",
    "    def get_notes_tab(self):\n",
    "        \"\"\"Gets info inside the notes tab\"\"\"\n",
    "        # Click on the Notes tab\n",
    "        self.driver.find_element_by_xpath(\"//a[@href='#notes-tab']\").click()\n",
    "        \n",
    "        # Get all items from the table, then organize in tuples\n",
    "        notes_table_elem = self.driver.find_element_by_xpath(\"//div[@id='notes-tab']/table/tbody\")\n",
    "        table_elems = notes_table_elem.find_elements_by_xpath(\"./tr/td\")\n",
    "        table_elems = [elem.text for elem in table_elems]\n",
    "        row_data = list(zip(table_elems[0::2], table_elems[1::2]))\n",
    "        \n",
    "        # Three cases\n",
    "        # 1. Submitted - 1 row\n",
    "        # 2. Opened - 2 rows\n",
    "        # 3. Closed - 3 rows\n",
    "\n",
    "        # Get submit info\n",
    "        submit_row = row_data[-1]\n",
    "        self.report_dict['time submitted'] = submit_row[0]\n",
    "        self.report_dict['submitted using'] = submit_row[1].split(\" \")[-1]\n",
    "        \n",
    "        # Get open info\n",
    "        if len(row_data) >= 2:\n",
    "            open_row = row_data[-2]\n",
    "            self.report_dict['time opened'] = open_row[0]\n",
    "            self.report_dict['open description'] = open_row[1]\n",
    "            \n",
    "        # Get closed info\n",
    "        if len(row_data) == 3:\n",
    "            closed_row = row_data[0]\n",
    "            self.report_dict['time closed'] = closed_row[0]\n",
    "            self.report_dict['closing description'] = closed_row[1]"
   ]
  },
  {
   "cell_type": "code",
   "execution_count": 154,
   "metadata": {},
   "outputs": [],
   "source": [
    "report = Report(driver, scraper.report_urls[4])"
   ]
  },
  {
   "cell_type": "code",
   "execution_count": null,
   "metadata": {},
   "outputs": [],
   "source": []
  },
  {
   "cell_type": "raw",
   "metadata": {},
   "source": []
  },
  {
   "cell_type": "code",
   "execution_count": 155,
   "metadata": {},
   "outputs": [
    {
     "data": {
      "text/plain": [
       "{'submitted using': 'Opened', 'time submitted': 'Sat Dec 02, 2017 02:04pm'}"
      ]
     },
     "execution_count": 155,
     "metadata": {},
     "output_type": "execute_result"
    }
   ],
   "source": [
    "report.get_notes_tab()\n",
    "report.report_dict"
   ]
  },
  {
   "cell_type": "code",
   "execution_count": 29,
   "metadata": {},
   "outputs": [
    {
     "data": {
      "text/plain": [
       "{'description': 'Connecticut car parked blocking hydrant since yesterday.',\n",
       " 'id': '101002276877#notes-tab',\n",
       " 'status': 'CLOSED'}"
      ]
     },
     "execution_count": 29,
     "metadata": {},
     "output_type": "execute_result"
    }
   ],
   "source": [
    "report.report_dict"
   ]
  }
 ],
 "metadata": {
  "kernelspec": {
   "display_name": "Python 3",
   "language": "python",
   "name": "python3"
  },
  "language_info": {
   "codemirror_mode": {
    "name": "ipython",
    "version": 3
   },
   "file_extension": ".py",
   "mimetype": "text/x-python",
   "name": "python",
   "nbconvert_exporter": "python",
   "pygments_lexer": "ipython3",
   "version": "3.6.3"
  }
 },
 "nbformat": 4,
 "nbformat_minor": 2
}
